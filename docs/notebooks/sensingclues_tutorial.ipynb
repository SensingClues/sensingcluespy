{
 "cells": [
  {
   "cell_type": "markdown",
   "id": "25eec9a6",
   "metadata": {},
   "source": [
    "# Extract wildlife observation data with SensingClues\n",
    "\n",
    "[SensingClues](https://sensingclues.org/) allows you to record, monitor and analyze wildlife observations to support nature conservation initiatives. This notebook shows the following:\n",
    "\n",
    "- **Basic**: the main SensingClues-functionality of **extracting observation and track data**. \n",
    "- **Advanced**: this section includes the usage of a hierarchy of available concepts (e.g. animal species or type of activity), which enhances reporting and analysis of the observation data. Further, we show how to collect and visualize layer data from SensingClues.\n",
    "\n",
    "You can adapt this notebook to extract your own recordings. For more detail on what you can configure as a user, see the API-documentation of the `sensingclues`-package.\n",
    "\n",
    "### Before you start\n",
    "\n",
    "To run this notebook, you should:\n",
    "- create a personal account at SensingClues using the Cluey Data Collector app, which can be downloaded from the Google Playstore (not supported for iOS currently). Also see [here](https://sensingclues.org/portal).\n",
    "- install the `sensingclues`-package in a virtual python environment (`pip install -e .` from the main directory of the repository).\n",
    "- install the requirements in requirements.txt (if not already installed automatically in the previous step).\n",
    "- create a file '.env' in the root of the wildcat-api-python-repository, containing your SensingClues credentials. These will be read in this notebook to log in. The file should look like this:\n",
    "```\n",
    "# SensingClues credentials\n",
    "USERNAME=your_username\n",
    "PASSWORD=your_password\n",
    "```"
   ]
  },
  {
   "cell_type": "markdown",
   "id": "d59d421f",
   "metadata": {},
   "source": [
    "## Configuration"
   ]
  },
  {
   "cell_type": "code",
   "execution_count": 1,
   "id": "a3cbba90",
   "metadata": {},
   "outputs": [],
   "source": [
    "import os"
   ]
  },
  {
   "cell_type": "code",
   "execution_count": 2,
   "id": "72108565",
   "metadata": {},
   "outputs": [],
   "source": [
    "from dotenv import load_dotenv"
   ]
  },
  {
   "cell_type": "code",
   "execution_count": 3,
   "id": "aeb8457f",
   "metadata": {},
   "outputs": [],
   "source": [
    "from sensingclues import sclogging\n",
    "from sensingclues.api_calls import SensingClues\n",
    "from sensingclues.src import helper_functions as helpers"
   ]
  },
  {
   "cell_type": "code",
   "execution_count": 4,
   "id": "f1df6b06",
   "metadata": {},
   "outputs": [],
   "source": [
    "logger = sclogging.get_sc_logger()\n",
    "sclogging.set_sc_log_level(\"DEBUG\")"
   ]
  },
  {
   "cell_type": "code",
   "execution_count": 5,
   "id": "cb402416",
   "metadata": {},
   "outputs": [
    {
     "data": {
      "text/plain": [
       "True"
      ]
     },
     "execution_count": 5,
     "metadata": {},
     "output_type": "execute_result"
    }
   ],
   "source": [
    "load_dotenv()"
   ]
  },
  {
   "cell_type": "code",
   "execution_count": 6,
   "id": "f8bf00b1",
   "metadata": {},
   "outputs": [],
   "source": [
    "%load_ext autoreload\n",
    "%autoreload 2"
   ]
  },
  {
   "cell_type": "code",
   "execution_count": 7,
   "id": "a4b7dcc9",
   "metadata": {
    "lines_to_next_cell": 2
   },
   "outputs": [],
   "source": [
    "# N.B. you can place your credentials here as well, but this is not recommended.\n",
    "username = os.getenv(\"USERNAME\")\n",
    "password = os.getenv(\"PASSWORD\")"
   ]
  },
  {
   "cell_type": "markdown",
   "id": "63d1a316",
   "metadata": {},
   "source": [
    "## Connect to SensingClues"
   ]
  },
  {
   "cell_type": "code",
   "execution_count": 8,
   "id": "7e4940b0",
   "metadata": {},
   "outputs": [
    {
     "name": "stdout",
     "output_type": "stream",
     "text": [
      "2024-05-29 10:24:17 [api_calls.py:54] INFO - Successfully logged in to SensingClues.\n"
     ]
    }
   ],
   "source": [
    "sensing_clues = SensingClues(username, password)"
   ]
  },
  {
   "cell_type": "code",
   "execution_count": 9,
   "id": "b194c006",
   "metadata": {},
   "outputs": [],
   "source": [
    "# you should have logged in automatically by calling the class.\n",
    "# if not, you can call the login-method separately.\n",
    "# status = sensing_clues.login(username, password)"
   ]
  },
  {
   "cell_type": "code",
   "execution_count": 10,
   "id": "31ae1468",
   "metadata": {},
   "outputs": [],
   "source": [
    "# It is not necessary to log out, but you can do so by calling:\n",
    "# sensing_clues.logout()"
   ]
  },
  {
   "cell_type": "markdown",
   "id": "2f12c24a",
   "metadata": {},
   "source": [
    "## Check available data\n",
    "\n",
    "By default, you have access to several groups of data, such as a demo dataset and a large dataset offered by [Global Forest Watch](https://www.globalforestwatch.org)."
   ]
  },
  {
   "cell_type": "code",
   "execution_count": 11,
   "id": "69397125",
   "metadata": {},
   "outputs": [
    {
     "data": {
      "text/html": [
       "<div>\n",
       "<style scoped>\n",
       "    .dataframe tbody tr th:only-of-type {\n",
       "        vertical-align: middle;\n",
       "    }\n",
       "\n",
       "    .dataframe tbody tr th {\n",
       "        vertical-align: top;\n",
       "    }\n",
       "\n",
       "    .dataframe thead th {\n",
       "        text-align: right;\n",
       "    }\n",
       "</style>\n",
       "<table border=\"1\" class=\"dataframe\">\n",
       "  <thead>\n",
       "    <tr style=\"text-align: right;\">\n",
       "      <th></th>\n",
       "      <th>name</th>\n",
       "      <th>description</th>\n",
       "      <th>n_records</th>\n",
       "    </tr>\n",
       "  </thead>\n",
       "  <tbody>\n",
       "    <tr>\n",
       "      <th>0</th>\n",
       "      <td>focus-project-2435800</td>\n",
       "      <td>3june2020</td>\n",
       "      <td>405</td>\n",
       "    </tr>\n",
       "    <tr>\n",
       "      <th>1</th>\n",
       "      <td>focus-project-7136973</td>\n",
       "      <td>Cluey Data Collector</td>\n",
       "      <td>688</td>\n",
       "    </tr>\n",
       "    <tr>\n",
       "      <th>2</th>\n",
       "      <td>focus-project-7811010</td>\n",
       "      <td>Creekish mountains</td>\n",
       "      <td>157</td>\n",
       "    </tr>\n",
       "    <tr>\n",
       "      <th>3</th>\n",
       "      <td>focus-project-1234</td>\n",
       "      <td>Demo Upload</td>\n",
       "      <td>1848</td>\n",
       "    </tr>\n",
       "    <tr>\n",
       "      <th>4</th>\n",
       "      <td>focus-project-GFW</td>\n",
       "      <td>GFW</td>\n",
       "      <td>49468</td>\n",
       "    </tr>\n",
       "  </tbody>\n",
       "</table>\n",
       "</div>"
      ],
      "text/plain": [
       "                    name           description  n_records\n",
       "0  focus-project-2435800             3june2020        405\n",
       "1  focus-project-7136973  Cluey Data Collector        688\n",
       "2  focus-project-7811010    Creekish mountains        157\n",
       "3     focus-project-1234           Demo Upload       1848\n",
       "4      focus-project-GFW                   GFW      49468"
      ]
     },
     "execution_count": 11,
     "metadata": {},
     "output_type": "execute_result"
    }
   ],
   "source": [
    "info = sensing_clues.get_groups()\n",
    "info"
   ]
  },
  {
   "cell_type": "code",
   "execution_count": 12,
   "id": "9b5921ce",
   "metadata": {},
   "outputs": [],
   "source": [
    "# specify the group(s) to extract data from\n",
    "groups = [\n",
    "    \"focus-project-1234\",\n",
    "]"
   ]
  },
  {
   "cell_type": "markdown",
   "id": "0b575d9e",
   "metadata": {},
   "source": [
    "## Basic functionality\n",
    "\n",
    "- Get observation data\n",
    "- Get track data"
   ]
  },
  {
   "cell_type": "markdown",
   "id": "bfa69c3d",
   "metadata": {},
   "source": [
    "### Get observations\n",
    "\n",
    "You can filter the extracted observations in multiple ways, such as data, coordinates (bounding box) and concepts. For full detail on the options, see the documentation of the API. Some key features are shown here:\n",
    "\n",
    "- **Date and time**: set `date_from` and/or `date_until` (in format %Y-%m-%d, assumes UTC).\n",
    "- **Coordinates**: set `coord`, e.g. {\"north\": 32, \"east\": 20, \"south\": 31, \"west\": 17}.\n",
    "- **Concepts**: set `concepts` to include, e.g. 'animal'. *See example shown later in this notebook*.\n",
    "\n",
    "#### Notes\n",
    "- Each observation has a unique `entityId` and may have multiple concepts (labels) associated with it,\n",
    " in which case the number of records in the observations-dataframe is larger than\n",
    " the number of observations mentioned by the logger.\n",
    "- Reading all data in a group can take minutes or longer, depending on the size of the dataset. If you want to do a quick test, you can limit the number of pages to read by setting `page_nbr_sample`. "
   ]
  },
  {
   "cell_type": "code",
   "execution_count": 13,
   "id": "25075ed6",
   "metadata": {},
   "outputs": [
    {
     "name": "stdout",
     "output_type": "stream",
     "text": [
      "2024-05-29 10:24:18 [api_calls.py:458] INFO - Scope '['focus-project-1234']' contains 1848 entities for data type 'observations'.\n",
      "2024-05-29 10:24:18 [api_calls.py:465] INFO - Restricting number of pages to a sample of 2.\n",
      "2024-05-29 10:24:18 [api_calls.py:478] INFO - Started reading available records.\n",
      "2024-05-29 10:24:18 [api_calls.py:481] INFO - Reading page   0 out of 2 pages.\n",
      "2024-05-29 10:24:19 [api_calls.py:493] INFO - Finished reading available records.\n"
     ]
    }
   ],
   "source": [
    "# a quick test can be done like so\n",
    "obs_sample = sensing_clues.get_observations(groups=groups, page_nbr_sample=2)"
   ]
  },
  {
   "cell_type": "code",
   "execution_count": 14,
   "id": "d6fffd86",
   "metadata": {},
   "outputs": [
    {
     "name": "stdout",
     "output_type": "stream",
     "text": [
      "2024-05-29 10:24:20 [api_calls.py:458] INFO - Scope '['focus-project-1234']' contains 159 entities for data type 'observations'.\n",
      "2024-05-29 10:24:20 [api_calls.py:478] INFO - Started reading available records.\n",
      "2024-05-29 10:24:20 [api_calls.py:481] INFO - Reading page   0 out of 16 pages.\n",
      "2024-05-29 10:24:20 [api_calls.py:481] INFO - Reading page   2 out of 16 pages.\n",
      "2024-05-29 10:24:21 [api_calls.py:481] INFO - Reading page   4 out of 16 pages.\n",
      "2024-05-29 10:24:22 [api_calls.py:481] INFO - Reading page   6 out of 16 pages.\n",
      "2024-05-29 10:24:23 [api_calls.py:481] INFO - Reading page   8 out of 16 pages.\n",
      "2024-05-29 10:24:24 [api_calls.py:481] INFO - Reading page  10 out of 16 pages.\n",
      "2024-05-29 10:24:24 [api_calls.py:481] INFO - Reading page  12 out of 16 pages.\n",
      "2024-05-29 10:24:26 [api_calls.py:481] INFO - Reading page  14 out of 16 pages.\n",
      "2024-05-29 10:24:26 [api_calls.py:493] INFO - Finished reading available records.\n"
     ]
    }
   ],
   "source": [
    "# see the API-documentation for a full description of filter possibilities\n",
    "# to filter on concepts, see example shown later in this notebook.\n",
    "observations = sensing_clues.get_observations(\n",
    "    groups=groups,\n",
    "    date_until=\"2018-07-01\",\n",
    "    coord={\"north\": 32, \"east\": 20, \"south\": 31.5, \"west\": 10}\n",
    ")"
   ]
  },
  {
   "cell_type": "code",
   "execution_count": 15,
   "id": "d9b7fc10",
   "metadata": {},
   "outputs": [
    {
     "data": {
      "text/html": [
       "<div>\n",
       "<style scoped>\n",
       "    .dataframe tbody tr th:only-of-type {\n",
       "        vertical-align: middle;\n",
       "    }\n",
       "\n",
       "    .dataframe tbody tr th {\n",
       "        vertical-align: top;\n",
       "    }\n",
       "\n",
       "    .dataframe thead th {\n",
       "        text-align: right;\n",
       "    }\n",
       "</style>\n",
       "<table border=\"1\" class=\"dataframe\">\n",
       "  <thead>\n",
       "    <tr style=\"text-align: right;\">\n",
       "      <th></th>\n",
       "      <th>entityId</th>\n",
       "      <th>entityType</th>\n",
       "      <th>entityName</th>\n",
       "      <th>projectId</th>\n",
       "      <th>projectName</th>\n",
       "      <th>observationType</th>\n",
       "      <th>when</th>\n",
       "      <th>where</th>\n",
       "      <th>agentName</th>\n",
       "      <th>conceptLabel</th>\n",
       "      <th>conceptId</th>\n",
       "    </tr>\n",
       "  </thead>\n",
       "  <tbody>\n",
       "    <tr>\n",
       "      <th>0</th>\n",
       "      <td>O1234-8298573771345653336-2095</td>\n",
       "      <td>human activity</td>\n",
       "      <td>Observation</td>\n",
       "      <td>1234</td>\n",
       "      <td>Demo Upload</td>\n",
       "      <td>human activity</td>\n",
       "      <td>2018-06-17T00:00:00+02:00</td>\n",
       "      <td>{'type': 'Point', 'coordinates': [19.46837283,...</td>\n",
       "      <td></td>\n",
       "      <td>Logs</td>\n",
       "      <td>https://sensingclues.poolparty.biz/SCCSSOntolo...</td>\n",
       "    </tr>\n",
       "    <tr>\n",
       "      <th>1</th>\n",
       "      <td>O1234-8298573771345653336-2095</td>\n",
       "      <td>human activity</td>\n",
       "      <td>Observation</td>\n",
       "      <td>1234</td>\n",
       "      <td>Demo Upload</td>\n",
       "      <td>human activity</td>\n",
       "      <td>2018-06-17T00:00:00+02:00</td>\n",
       "      <td>{'type': 'Point', 'coordinates': [19.46837283,...</td>\n",
       "      <td></td>\n",
       "      <td>Burned</td>\n",
       "      <td>https://sensingclues.poolparty.biz/SCCSSOntolo...</td>\n",
       "    </tr>\n",
       "    <tr>\n",
       "      <th>2</th>\n",
       "      <td>O1234-8298573771345653336-2087</td>\n",
       "      <td>human activity</td>\n",
       "      <td>Observation</td>\n",
       "      <td>1234</td>\n",
       "      <td>Demo Upload</td>\n",
       "      <td>human activity</td>\n",
       "      <td>2018-06-10T00:00:00+02:00</td>\n",
       "      <td>{'type': 'Point', 'coordinates': [16.37800461,...</td>\n",
       "      <td></td>\n",
       "      <td>Kiln</td>\n",
       "      <td>https://sensingclues.poolparty.biz/SCCSSOntolo...</td>\n",
       "    </tr>\n",
       "    <tr>\n",
       "      <th>3</th>\n",
       "      <td>O1234-8298573771345653336-2087</td>\n",
       "      <td>human activity</td>\n",
       "      <td>Observation</td>\n",
       "      <td>1234</td>\n",
       "      <td>Demo Upload</td>\n",
       "      <td>human activity</td>\n",
       "      <td>2018-06-10T00:00:00+02:00</td>\n",
       "      <td>{'type': 'Point', 'coordinates': [16.37800461,...</td>\n",
       "      <td></td>\n",
       "      <td>Burned</td>\n",
       "      <td>https://sensingclues.poolparty.biz/SCCSSOntolo...</td>\n",
       "    </tr>\n",
       "    <tr>\n",
       "      <th>4</th>\n",
       "      <td>O1234-8298573771345653336-2082</td>\n",
       "      <td>human activity</td>\n",
       "      <td>Observation</td>\n",
       "      <td>1234</td>\n",
       "      <td>Demo Upload</td>\n",
       "      <td>human activity</td>\n",
       "      <td>2018-06-05T00:00:00+02:00</td>\n",
       "      <td>{'type': 'Point', 'coordinates': [17.05109027,...</td>\n",
       "      <td></td>\n",
       "      <td>Kiln</td>\n",
       "      <td>https://sensingclues.poolparty.biz/SCCSSOntolo...</td>\n",
       "    </tr>\n",
       "  </tbody>\n",
       "</table>\n",
       "</div>"
      ],
      "text/plain": [
       "                         entityId      entityType   entityName projectId  \\\n",
       "0  O1234-8298573771345653336-2095  human activity  Observation      1234   \n",
       "1  O1234-8298573771345653336-2095  human activity  Observation      1234   \n",
       "2  O1234-8298573771345653336-2087  human activity  Observation      1234   \n",
       "3  O1234-8298573771345653336-2087  human activity  Observation      1234   \n",
       "4  O1234-8298573771345653336-2082  human activity  Observation      1234   \n",
       "\n",
       "   projectName observationType                       when  \\\n",
       "0  Demo Upload  human activity  2018-06-17T00:00:00+02:00   \n",
       "1  Demo Upload  human activity  2018-06-17T00:00:00+02:00   \n",
       "2  Demo Upload  human activity  2018-06-10T00:00:00+02:00   \n",
       "3  Demo Upload  human activity  2018-06-10T00:00:00+02:00   \n",
       "4  Demo Upload  human activity  2018-06-05T00:00:00+02:00   \n",
       "\n",
       "                                               where agentName conceptLabel  \\\n",
       "0  {'type': 'Point', 'coordinates': [19.46837283,...                   Logs   \n",
       "1  {'type': 'Point', 'coordinates': [19.46837283,...                 Burned   \n",
       "2  {'type': 'Point', 'coordinates': [16.37800461,...                   Kiln   \n",
       "3  {'type': 'Point', 'coordinates': [16.37800461,...                 Burned   \n",
       "4  {'type': 'Point', 'coordinates': [17.05109027,...                   Kiln   \n",
       "\n",
       "                                           conceptId  \n",
       "0  https://sensingclues.poolparty.biz/SCCSSOntolo...  \n",
       "1  https://sensingclues.poolparty.biz/SCCSSOntolo...  \n",
       "2  https://sensingclues.poolparty.biz/SCCSSOntolo...  \n",
       "3  https://sensingclues.poolparty.biz/SCCSSOntolo...  \n",
       "4  https://sensingclues.poolparty.biz/SCCSSOntolo...  "
      ]
     },
     "execution_count": 15,
     "metadata": {},
     "output_type": "execute_result"
    }
   ],
   "source": [
    "observations.head()"
   ]
  },
  {
   "cell_type": "markdown",
   "id": "4c6e18bd",
   "metadata": {},
   "source": [
    "### Get tracks\n",
    "\n",
    "You can filter the extracted observations in multiple ways, such as data, coordinates (bounding box) and concepts, similar to `get_observations`. "
   ]
  },
  {
   "cell_type": "code",
   "execution_count": 16,
   "id": "022cebfb",
   "metadata": {},
   "outputs": [
    {
     "name": "stdout",
     "output_type": "stream",
     "text": [
      "2024-05-29 10:24:27 [api_calls.py:458] INFO - Scope '['focus-project-1234']' contains 0 entities for data type 'tracks'.\n",
      "2024-05-29 10:24:27 [api_calls.py:495] WARNING - No data available for 'tracks', returning empty dataframe.\n"
     ]
    }
   ],
   "source": [
    "tracks = sensing_clues.get_tracks(\n",
    "    groups=groups,\n",
    "    date_until=\"2018-07-01\",\n",
    "    coord={\"north\": 32, \"east\": 20, \"south\": 31.5, \"west\": 10}\n",
    ")"
   ]
  },
  {
   "cell_type": "code",
   "execution_count": 17,
   "id": "1cbd568d",
   "metadata": {},
   "outputs": [
    {
     "data": {
      "text/html": [
       "<div>\n",
       "<style scoped>\n",
       "    .dataframe tbody tr th:only-of-type {\n",
       "        vertical-align: middle;\n",
       "    }\n",
       "\n",
       "    .dataframe tbody tr th {\n",
       "        vertical-align: top;\n",
       "    }\n",
       "\n",
       "    .dataframe thead th {\n",
       "        text-align: right;\n",
       "    }\n",
       "</style>\n",
       "<table border=\"1\" class=\"dataframe\">\n",
       "  <thead>\n",
       "    <tr style=\"text-align: right;\">\n",
       "      <th></th>\n",
       "    </tr>\n",
       "  </thead>\n",
       "  <tbody>\n",
       "  </tbody>\n",
       "</table>\n",
       "</div>"
      ],
      "text/plain": [
       "Empty DataFrame\n",
       "Columns: []\n",
       "Index: []"
      ]
     },
     "execution_count": 17,
     "metadata": {},
     "output_type": "execute_result"
    }
   ],
   "source": [
    "tracks.head()"
   ]
  },
  {
   "cell_type": "markdown",
   "id": "eb1c735a",
   "metadata": {},
   "source": [
    "#### Add geosjon-data to tracks\n",
    "\n",
    "If available, you can add geojson-data (including geometries) to the tracks."
   ]
  },
  {
   "cell_type": "code",
   "execution_count": 18,
   "id": "c3df74a9",
   "metadata": {},
   "outputs": [
    {
     "name": "stdout",
     "output_type": "stream",
     "text": [
      "2024-05-29 10:24:27 [api_calls.py:189] WARNING - No tracks available, cannot obtain geojson-data.\n"
     ]
    }
   ],
   "source": [
    "tracks_geo = sensing_clues.add_geojson_to_tracks(tracks)"
   ]
  },
  {
   "cell_type": "markdown",
   "id": "69486170",
   "metadata": {},
   "source": [
    "## Advanced functionality"
   ]
  },
  {
   "cell_type": "markdown",
   "id": "ca81e533",
   "metadata": {},
   "source": [
    "### Get all available concepts and their hierarchy\n",
    "\n",
    "SensingClues offers hierarchies containing the available concepts (e.g. animals). As shown later in this notebook, you can use this information to subsequently query:\n",
    "- the details for a specific concept\n",
    "- check the occurrence of each concept in the group(s) of observations you have access to."
   ]
  },
  {
   "cell_type": "code",
   "execution_count": 19,
   "id": "eb691cfd",
   "metadata": {},
   "outputs": [
    {
     "name": "stdout",
     "output_type": "stream",
     "text": [
      "<class 'pandas.core.frame.DataFrame'>\n",
      "Int64Index: 1209 entries, 0 to 1537\n",
      "Data columns (total 6 columns):\n",
      " #   Column        Non-Null Count  Dtype \n",
      "---  ------        --------------  ----- \n",
      " 0   id            1209 non-null   object\n",
      " 1   parent        1209 non-null   object\n",
      " 2   label         1209 non-null   object\n",
      " 3   altLabels     753 non-null    object\n",
      " 4   children      155 non-null    object\n",
      " 5   isTopConcept  1209 non-null   bool  \n",
      "dtypes: bool(1), object(5)\n",
      "memory usage: 57.9+ KB\n"
     ]
    }
   ],
   "source": [
    "hierarchy = sensing_clues.get_hierarchy(scope=\"SCCSS\")\n",
    "hierarchy.info()"
   ]
  },
  {
   "cell_type": "markdown",
   "id": "3b244e0c",
   "metadata": {},
   "source": [
    "### Get details for specific concepts in the hierarchy\n",
    "\n",
    "You can get information on children or the parents of a concept in the hierarchy by filtering on its label or id. Use the available helper functions to do so. For example, you could do the following for the concept of a \"Kite\" (oid = \"https://sensingclues.poolparty.biz/SCCSSOntology/222\"):\n",
    "\n",
    "```\n",
    "oid = \"https://sensingclues.poolparty.biz/SCCSSOntology/222\"\n",
    "helpers.get_children_for_id(hierarchy, oid)\n",
    "helpers.get_parent_for_id(hierarchy, oid)\n",
    "helpers.get_label_for_id(hierarchy, oid)\n",
    "```\n",
    "\n",
    "or, if filtering on the label itself:\n",
    "\n",
    "```\n",
    "label = 'Kite'\n",
    "helpers.get_children_for_label(hierarchy, label)\n",
    "helpers.get_parent_for_label(hierarchy, label)\n",
    "helpers.get_id_for_label(hierarchy, label)\n",
    "```\n",
    "\n",
    "N.B. Alternatively, you could directly filter the `hierarchy`-dataframe yourself of course."
   ]
  },
  {
   "cell_type": "markdown",
   "id": "5bb0bae3",
   "metadata": {},
   "source": [
    "#### Tell me, what animal belongs to this concept id?"
   ]
  },
  {
   "cell_type": "code",
   "execution_count": 20,
   "id": "2b79b56c",
   "metadata": {},
   "outputs": [
    {
     "data": {
      "text/plain": [
       "'Kite'"
      ]
     },
     "execution_count": 20,
     "metadata": {},
     "output_type": "execute_result"
    }
   ],
   "source": [
    "oid = \"https://sensingclues.poolparty.biz/SCCSSOntology/222\"\n",
    "helpers.get_label_for_id(hierarchy, oid)"
   ]
  },
  {
   "cell_type": "markdown",
   "id": "73a65f76",
   "metadata": {},
   "source": [
    "#### Does this Kite have any children?"
   ]
  },
  {
   "cell_type": "code",
   "execution_count": 21,
   "id": "fd4a87a6",
   "metadata": {
    "lines_to_next_cell": 2
   },
   "outputs": [
    {
     "data": {
      "text/plain": [
       "['https://sensingclues.poolparty.biz/SCCSSOntology/224',\n",
       " 'https://sensingclues.poolparty.biz/SCCSSOntology/223']"
      ]
     },
     "execution_count": 21,
     "metadata": {},
     "output_type": "execute_result"
    }
   ],
   "source": [
    "label = \"Kite\"\n",
    "children_label = helpers.get_children_for_label(hierarchy, label)\n",
    "children_label"
   ]
  },
  {
   "cell_type": "markdown",
   "id": "b38c204f",
   "metadata": {},
   "source": [
    "#### What are the details for these children?"
   ]
  },
  {
   "cell_type": "code",
   "execution_count": 22,
   "id": "3f7ab1ad",
   "metadata": {},
   "outputs": [
    {
     "data": {
      "text/html": [
       "<div>\n",
       "<style scoped>\n",
       "    .dataframe tbody tr th:only-of-type {\n",
       "        vertical-align: middle;\n",
       "    }\n",
       "\n",
       "    .dataframe tbody tr th {\n",
       "        vertical-align: top;\n",
       "    }\n",
       "\n",
       "    .dataframe thead th {\n",
       "        text-align: right;\n",
       "    }\n",
       "</style>\n",
       "<table border=\"1\" class=\"dataframe\">\n",
       "  <thead>\n",
       "    <tr style=\"text-align: right;\">\n",
       "      <th></th>\n",
       "      <th>id</th>\n",
       "      <th>parent</th>\n",
       "      <th>label</th>\n",
       "      <th>altLabels</th>\n",
       "      <th>children</th>\n",
       "      <th>isTopConcept</th>\n",
       "    </tr>\n",
       "  </thead>\n",
       "  <tbody>\n",
       "    <tr>\n",
       "      <th>448</th>\n",
       "      <td>https://sensingclues.poolparty.biz/SCCSSOntolo...</td>\n",
       "      <td>https://sensingclues.poolparty.biz/SCCSSOntolo...</td>\n",
       "      <td>Kite black</td>\n",
       "      <td>[Kite_black, Black kite, Milvus migrans, Kite_...</td>\n",
       "      <td>NaN</td>\n",
       "      <td>False</td>\n",
       "    </tr>\n",
       "    <tr>\n",
       "      <th>1108</th>\n",
       "      <td>https://sensingclues.poolparty.biz/SCCSSOntolo...</td>\n",
       "      <td>https://sensingclues.poolparty.biz/SCCSSOntolo...</td>\n",
       "      <td>Kite red</td>\n",
       "      <td>[red_kite, Milvus milvus, Kite_red, red_kite, ...</td>\n",
       "      <td>NaN</td>\n",
       "      <td>False</td>\n",
       "    </tr>\n",
       "  </tbody>\n",
       "</table>\n",
       "</div>"
      ],
      "text/plain": [
       "                                                     id  \\\n",
       "448   https://sensingclues.poolparty.biz/SCCSSOntolo...   \n",
       "1108  https://sensingclues.poolparty.biz/SCCSSOntolo...   \n",
       "\n",
       "                                                 parent       label  \\\n",
       "448   https://sensingclues.poolparty.biz/SCCSSOntolo...  Kite black   \n",
       "1108  https://sensingclues.poolparty.biz/SCCSSOntolo...    Kite red   \n",
       "\n",
       "                                              altLabels children  isTopConcept  \n",
       "448   [Kite_black, Black kite, Milvus migrans, Kite_...      NaN         False  \n",
       "1108  [red_kite, Milvus milvus, Kite_red, red_kite, ...      NaN         False  "
      ]
     },
     "execution_count": 22,
     "metadata": {},
     "output_type": "execute_result"
    }
   ],
   "source": [
    "hierarchy.loc[hierarchy[\"id\"].isin(children_label)]"
   ]
  },
  {
   "cell_type": "markdown",
   "id": "9227df92",
   "metadata": {},
   "source": [
    "### Filter observations on concept\n",
    "\n",
    "Here we show an example of filtering the data on these concepts.\n",
    "\n",
    "**Instructions:**\n",
    "- Set `concepts` to include, e.g. 'animal', specified as a Pool Party URL, e.g. \"https://sensingclues.poolparty.biz/SCCSSOntology/186\".\n",
    "- Note that you can infer the URL's available for a certain common name by using the helper function `helpers.get_label_for_id(hierarchy, oid)`, as shown above.\n",
    "- Further, if you want to exclude subconcepts, i.e. keep observations with the label 'animal' but exclude observations with the label 'elephant', set `include_subconcepts=False`.\n"
   ]
  },
  {
   "cell_type": "code",
   "execution_count": 23,
   "id": "7adc677c",
   "metadata": {},
   "outputs": [
    {
     "name": "stdout",
     "output_type": "stream",
     "text": [
      "2024-05-29 10:24:28 [api_calls.py:458] INFO - Scope '['focus-project-1234']' contains 5 entities for data type 'observations'.\n",
      "2024-05-29 10:24:28 [api_calls.py:478] INFO - Started reading available records.\n",
      "2024-05-29 10:24:28 [api_calls.py:481] INFO - Reading page   0 out of 1 pages.\n",
      "2024-05-29 10:24:28 [api_calls.py:493] INFO - Finished reading available records.\n"
     ]
    }
   ],
   "source": [
    "concept_animal = [\n",
    "    \"https://sensingclues.poolparty.biz/SCCSSOntology/308\", # Impala\n",
    "    \"https://sensingclues.poolparty.biz/SCCSSOntology/319\", # Giraffe    \n",
    "    \n",
    "    # or infer the id using a label, for instance:\n",
    "    # helpers.get_id_for_label(hierarchy, \"Animal sighting\"),\n",
    "]\n",
    "observations = sensing_clues.get_observations(\n",
    "    groups=groups,\n",
    "    date_until=\"2018-07-01\",\n",
    "    concepts=concept_animal,\n",
    "    coord={\"north\": 32, \"east\": 20, \"south\": 31.5, \"west\": 10}\n",
    ")"
   ]
  },
  {
   "cell_type": "code",
   "execution_count": 24,
   "id": "e479a1bf",
   "metadata": {},
   "outputs": [
    {
     "data": {
      "text/html": [
       "<div>\n",
       "<style scoped>\n",
       "    .dataframe tbody tr th:only-of-type {\n",
       "        vertical-align: middle;\n",
       "    }\n",
       "\n",
       "    .dataframe tbody tr th {\n",
       "        vertical-align: top;\n",
       "    }\n",
       "\n",
       "    .dataframe thead th {\n",
       "        text-align: right;\n",
       "    }\n",
       "</style>\n",
       "<table border=\"1\" class=\"dataframe\">\n",
       "  <thead>\n",
       "    <tr style=\"text-align: right;\">\n",
       "      <th></th>\n",
       "      <th>entityId</th>\n",
       "      <th>entityType</th>\n",
       "      <th>entityName</th>\n",
       "      <th>projectId</th>\n",
       "      <th>projectName</th>\n",
       "      <th>observationType</th>\n",
       "      <th>when</th>\n",
       "      <th>where</th>\n",
       "      <th>agentName</th>\n",
       "      <th>conceptLabel</th>\n",
       "      <th>conceptId</th>\n",
       "    </tr>\n",
       "  </thead>\n",
       "  <tbody>\n",
       "    <tr>\n",
       "      <th>0</th>\n",
       "      <td>O1234-8298573771345653336-1609</td>\n",
       "      <td>human activity</td>\n",
       "      <td>Observation</td>\n",
       "      <td>1234</td>\n",
       "      <td>Demo Upload</td>\n",
       "      <td>human activity</td>\n",
       "      <td>2017-02-10T00:00:00+01:00</td>\n",
       "      <td>{'type': 'Point', 'coordinates': [18.39919963,...</td>\n",
       "      <td></td>\n",
       "      <td>Carcass</td>\n",
       "      <td>https://sensingclues.poolparty.biz/SCCSSOntolo...</td>\n",
       "    </tr>\n",
       "    <tr>\n",
       "      <th>1</th>\n",
       "      <td>O1234-8298573771345653336-1609</td>\n",
       "      <td>human activity</td>\n",
       "      <td>Observation</td>\n",
       "      <td>1234</td>\n",
       "      <td>Demo Upload</td>\n",
       "      <td>human activity</td>\n",
       "      <td>2017-02-10T00:00:00+01:00</td>\n",
       "      <td>{'type': 'Point', 'coordinates': [18.39919963,...</td>\n",
       "      <td></td>\n",
       "      <td>Giraffe</td>\n",
       "      <td>https://sensingclues.poolparty.biz/SCCSSOntolo...</td>\n",
       "    </tr>\n",
       "    <tr>\n",
       "      <th>2</th>\n",
       "      <td>O1234-8298573771345653336-1609</td>\n",
       "      <td>human activity</td>\n",
       "      <td>Observation</td>\n",
       "      <td>1234</td>\n",
       "      <td>Demo Upload</td>\n",
       "      <td>human activity</td>\n",
       "      <td>2017-02-10T00:00:00+01:00</td>\n",
       "      <td>{'type': 'Point', 'coordinates': [18.39919963,...</td>\n",
       "      <td></td>\n",
       "      <td>Recorded</td>\n",
       "      <td>https://sensingclues.poolparty.biz/SCCSSOntolo...</td>\n",
       "    </tr>\n",
       "    <tr>\n",
       "      <th>3</th>\n",
       "      <td>O1234-8298573771345653336-1541</td>\n",
       "      <td>human activity</td>\n",
       "      <td>Observation</td>\n",
       "      <td>1234</td>\n",
       "      <td>Demo Upload</td>\n",
       "      <td>human activity</td>\n",
       "      <td>2016-10-02T00:00:00+02:00</td>\n",
       "      <td>{'type': 'Point', 'coordinates': [15.83503126,...</td>\n",
       "      <td></td>\n",
       "      <td>Impala</td>\n",
       "      <td>https://sensingclues.poolparty.biz/SCCSSOntolo...</td>\n",
       "    </tr>\n",
       "    <tr>\n",
       "      <th>4</th>\n",
       "      <td>O1234-8298573771345653336-1541</td>\n",
       "      <td>human activity</td>\n",
       "      <td>Observation</td>\n",
       "      <td>1234</td>\n",
       "      <td>Demo Upload</td>\n",
       "      <td>human activity</td>\n",
       "      <td>2016-10-02T00:00:00+02:00</td>\n",
       "      <td>{'type': 'Point', 'coordinates': [15.83503126,...</td>\n",
       "      <td></td>\n",
       "      <td>Logs</td>\n",
       "      <td>https://sensingclues.poolparty.biz/SCCSSOntolo...</td>\n",
       "    </tr>\n",
       "  </tbody>\n",
       "</table>\n",
       "</div>"
      ],
      "text/plain": [
       "                         entityId      entityType   entityName projectId  \\\n",
       "0  O1234-8298573771345653336-1609  human activity  Observation      1234   \n",
       "1  O1234-8298573771345653336-1609  human activity  Observation      1234   \n",
       "2  O1234-8298573771345653336-1609  human activity  Observation      1234   \n",
       "3  O1234-8298573771345653336-1541  human activity  Observation      1234   \n",
       "4  O1234-8298573771345653336-1541  human activity  Observation      1234   \n",
       "\n",
       "   projectName observationType                       when  \\\n",
       "0  Demo Upload  human activity  2017-02-10T00:00:00+01:00   \n",
       "1  Demo Upload  human activity  2017-02-10T00:00:00+01:00   \n",
       "2  Demo Upload  human activity  2017-02-10T00:00:00+01:00   \n",
       "3  Demo Upload  human activity  2016-10-02T00:00:00+02:00   \n",
       "4  Demo Upload  human activity  2016-10-02T00:00:00+02:00   \n",
       "\n",
       "                                               where agentName conceptLabel  \\\n",
       "0  {'type': 'Point', 'coordinates': [18.39919963,...                Carcass   \n",
       "1  {'type': 'Point', 'coordinates': [18.39919963,...                Giraffe   \n",
       "2  {'type': 'Point', 'coordinates': [18.39919963,...               Recorded   \n",
       "3  {'type': 'Point', 'coordinates': [15.83503126,...                 Impala   \n",
       "4  {'type': 'Point', 'coordinates': [15.83503126,...                   Logs   \n",
       "\n",
       "                                           conceptId  \n",
       "0  https://sensingclues.poolparty.biz/SCCSSOntolo...  \n",
       "1  https://sensingclues.poolparty.biz/SCCSSOntolo...  \n",
       "2  https://sensingclues.poolparty.biz/SCCSSOntolo...  \n",
       "3  https://sensingclues.poolparty.biz/SCCSSOntolo...  \n",
       "4  https://sensingclues.poolparty.biz/SCCSSOntolo...  "
      ]
     },
     "execution_count": 24,
     "metadata": {},
     "output_type": "execute_result"
    }
   ],
   "source": [
    "observations.head()"
   ]
  },
  {
   "cell_type": "markdown",
   "id": "6691b09b",
   "metadata": {},
   "source": [
    "### Count concepts related to observations\n",
    "\n",
    "Get the number of observations per concept in the ontology (hierarchy).\n",
    "\n",
    "You can filter on for instance:\n",
    "- `date_from` and `date_until`.\n",
    "- A list of child concepts, e.g. by extracting children for the label \"Animal sighting\" from hierarchy (see example below)."
   ]
  },
  {
   "cell_type": "code",
   "execution_count": 25,
   "id": "ebd77764",
   "metadata": {},
   "outputs": [
    {
     "data": {
      "text/html": [
       "<div>\n",
       "<style scoped>\n",
       "    .dataframe tbody tr th:only-of-type {\n",
       "        vertical-align: middle;\n",
       "    }\n",
       "\n",
       "    .dataframe tbody tr th {\n",
       "        vertical-align: top;\n",
       "    }\n",
       "\n",
       "    .dataframe thead th {\n",
       "        text-align: right;\n",
       "    }\n",
       "</style>\n",
       "<table border=\"1\" class=\"dataframe\">\n",
       "  <thead>\n",
       "    <tr style=\"text-align: right;\">\n",
       "      <th></th>\n",
       "      <th>frequency</th>\n",
       "      <th>_value</th>\n",
       "    </tr>\n",
       "  </thead>\n",
       "  <tbody>\n",
       "    <tr>\n",
       "      <th>0</th>\n",
       "      <td>98</td>\n",
       "      <td>https://sensingclues.poolparty.biz/SCCSSOntolo...</td>\n",
       "    </tr>\n",
       "    <tr>\n",
       "      <th>1</th>\n",
       "      <td>97</td>\n",
       "      <td>https://sensingclues.poolparty.biz/SCCSSOntolo...</td>\n",
       "    </tr>\n",
       "    <tr>\n",
       "      <th>2</th>\n",
       "      <td>1</td>\n",
       "      <td>https://sensingclues.poolparty.biz/SCCSSOntolo...</td>\n",
       "    </tr>\n",
       "    <tr>\n",
       "      <th>3</th>\n",
       "      <td>1</td>\n",
       "      <td>https://sensingclues.poolparty.biz/SCCSSOntolo...</td>\n",
       "    </tr>\n",
       "    <tr>\n",
       "      <th>4</th>\n",
       "      <td>12</td>\n",
       "      <td>https://sensingclues.poolparty.biz/SCCSSOntolo...</td>\n",
       "    </tr>\n",
       "  </tbody>\n",
       "</table>\n",
       "</div>"
      ],
      "text/plain": [
       "   frequency                                             _value\n",
       "0         98  https://sensingclues.poolparty.biz/SCCSSOntolo...\n",
       "1         97  https://sensingclues.poolparty.biz/SCCSSOntolo...\n",
       "2          1  https://sensingclues.poolparty.biz/SCCSSOntolo...\n",
       "3          1  https://sensingclues.poolparty.biz/SCCSSOntolo...\n",
       "4         12  https://sensingclues.poolparty.biz/SCCSSOntolo..."
      ]
     },
     "execution_count": 25,
     "metadata": {},
     "output_type": "execute_result"
    }
   ],
   "source": [
    "date_from = \"2010-01-01\"\n",
    "date_until = \"2024-01-01\"\n",
    "label = \"Animal sighting\"\n",
    "children_label = helpers.get_children_for_label(hierarchy, label)\n",
    "concept_counts = sensing_clues.get_concept_counts(\n",
    "    groups, date_from=date_from, date_until=date_until, concepts=children_label\n",
    ")\n",
    "concept_counts.head()"
   ]
  },
  {
   "cell_type": "markdown",
   "id": "0a7ea135",
   "metadata": {},
   "source": [
    "#### Example: visualize concept counts\n",
    "\n",
    "To make the visualization intelligible, you can add information on labels from the `hierarchy`-dataframe.\n",
    "\n",
    "To do so, first install matplotlib."
   ]
  },
  {
   "cell_type": "code",
   "execution_count": 26,
   "id": "b6597a5c",
   "metadata": {},
   "outputs": [],
   "source": [
    "# !pip install matplotlib"
   ]
  },
  {
   "cell_type": "code",
   "execution_count": 27,
   "id": "3e62106d",
   "metadata": {},
   "outputs": [],
   "source": [
    "import matplotlib.pyplot as plt\n",
    "plt.style.use(\"ggplot\")"
   ]
  },
  {
   "cell_type": "code",
   "execution_count": 28,
   "id": "03230f35",
   "metadata": {},
   "outputs": [
    {
     "data": {
      "image/png": "[encoded data removed]",
      "text/plain": [
       "<Figure size 640x480 with 1 Axes>"
      ]
     },
     "metadata": {},
     "output_type": "display_data"
    }
   ],
   "source": [
    "min_freq = 10\n",
    "if not concept_counts.empty:\n",
    "    concept_freq = concept_counts.merge(\n",
    "        hierarchy, left_on=\"_value\", right_on=\"id\", how=\"left\"\n",
    "    )\n",
    "    concept_freq[\"label\"] = concept_freq[\"label\"].fillna(concept_freq[\"_value\"])\n",
    "    concept_freq = concept_freq.set_index(\"label\")[\"frequency\"].sort_values(\n",
    "        ascending=True\n",
    "    )\n",
    "\n",
    "    concept_freq.loc[concept_freq >= min_freq].plot(kind=\"barh\")\n",
    "    plt.title(\n",
    "        f\"Number of observations per concept in group(s)\\n'{groups}' for label '{label}'\\n\"\n",
    "        f\"[{date_from} to {date_until} and minimum frequency {min_freq}]\",\n",
    "        fontsize=12,\n",
    "    )\n",
    "    plt.xlabel(\"Number of observations per concept label\")\n",
    "    plt.ylabel(\"Label of concept\")"
   ]
  },
  {
   "cell_type": "markdown",
   "id": "a2953114",
   "metadata": {},
   "source": [
    "### Get layers"
   ]
  },
  {
   "cell_type": "code",
   "execution_count": 29,
   "id": "bae8f768",
   "metadata": {},
   "outputs": [
    {
     "data": {
      "text/html": [
       "<div>\n",
       "<style scoped>\n",
       "    .dataframe tbody tr th:only-of-type {\n",
       "        vertical-align: middle;\n",
       "    }\n",
       "\n",
       "    .dataframe tbody tr th {\n",
       "        vertical-align: top;\n",
       "    }\n",
       "\n",
       "    .dataframe thead th {\n",
       "        text-align: right;\n",
       "    }\n",
       "</style>\n",
       "<table border=\"1\" class=\"dataframe\">\n",
       "  <thead>\n",
       "    <tr style=\"text-align: right;\">\n",
       "      <th></th>\n",
       "      <th>pid</th>\n",
       "      <th>lid</th>\n",
       "      <th>layerName</th>\n",
       "      <th>description</th>\n",
       "      <th>geometryType</th>\n",
       "    </tr>\n",
       "  </thead>\n",
       "  <tbody>\n",
       "    <tr>\n",
       "      <th>0</th>\n",
       "      <td>1234</td>\n",
       "      <td>0</td>\n",
       "      <td>test_multipolygon</td>\n",
       "      <td>All MultiPolygon geometries for layer test_mul...</td>\n",
       "      <td>MultiPolygon</td>\n",
       "    </tr>\n",
       "    <tr>\n",
       "      <th>1</th>\n",
       "      <td>1234</td>\n",
       "      <td>1</td>\n",
       "      <td>test_polygon</td>\n",
       "      <td>All Polygon geometries for layer test_polygon</td>\n",
       "      <td>Polygon</td>\n",
       "    </tr>\n",
       "  </tbody>\n",
       "</table>\n",
       "</div>"
      ],
      "text/plain": [
       "    pid  lid          layerName  \\\n",
       "0  1234    0  test_multipolygon   \n",
       "1  1234    1       test_polygon   \n",
       "\n",
       "                                         description  geometryType  \n",
       "0  All MultiPolygon geometries for layer test_mul...  MultiPolygon  \n",
       "1      All Polygon geometries for layer test_polygon       Polygon  "
      ]
     },
     "execution_count": 29,
     "metadata": {},
     "output_type": "execute_result"
    }
   ],
   "source": [
    "# check all available layers\n",
    "layers = sensing_clues.get_all_layers()\n",
    "layers"
   ]
  },
  {
   "cell_type": "markdown",
   "id": "608f5ff2",
   "metadata": {},
   "source": [
    "### Get details for an individual layer"
   ]
  },
  {
   "cell_type": "code",
   "execution_count": 30,
   "id": "08df069e",
   "metadata": {},
   "outputs": [],
   "source": [
    "layer = sensing_clues.get_layer_features(layer_name=\"test_multipolygon\")"
   ]
  },
  {
   "cell_type": "code",
   "execution_count": 31,
   "id": "d026ea42",
   "metadata": {},
   "outputs": [
    {
     "data": {
      "text/html": [
       "<div>\n",
       "<style scoped>\n",
       "    .dataframe tbody tr th:only-of-type {\n",
       "        vertical-align: middle;\n",
       "    }\n",
       "\n",
       "    .dataframe tbody tr th {\n",
       "        vertical-align: top;\n",
       "    }\n",
       "\n",
       "    .dataframe thead th {\n",
       "        text-align: right;\n",
       "    }\n",
       "</style>\n",
       "<table border=\"1\" class=\"dataframe\">\n",
       "  <thead>\n",
       "    <tr style=\"text-align: right;\">\n",
       "      <th></th>\n",
       "      <th>id</th>\n",
       "      <th>DocId</th>\n",
       "      <th>ShortId</th>\n",
       "      <th>OBJECTID</th>\n",
       "      <th>EntityId</th>\n",
       "      <th>NAME</th>\n",
       "      <th>geometry</th>\n",
       "      <th>_type</th>\n",
       "      <th>_id</th>\n",
       "      <th>geometry_type</th>\n",
       "      <th>geometry_coordinates</th>\n",
       "      <th>properties_DocId</th>\n",
       "      <th>properties_ShortId</th>\n",
       "      <th>properties_OBJECTID</th>\n",
       "      <th>properties_EntityId</th>\n",
       "      <th>properties_NAME</th>\n",
       "    </tr>\n",
       "  </thead>\n",
       "  <tbody>\n",
       "    <tr>\n",
       "      <th>0</th>\n",
       "      <td>194355991</td>\n",
       "      <td>/GeoFeature/G1234-9853708381955736304-1.json</td>\n",
       "      <td>194355991</td>\n",
       "      <td>194355991</td>\n",
       "      <td>G1234-9853708381955736304-1</td>\n",
       "      <td>None</td>\n",
       "      <td>MULTIPOLYGON (((4.87038 52.25303, 4.80171 52.2...</td>\n",
       "      <td>Feature</td>\n",
       "      <td>194355991</td>\n",
       "      <td>MultiPolygon</td>\n",
       "      <td>[[[[4.87037658691406, 52.2530274427686], [4.80...</td>\n",
       "      <td>/GeoFeature/G1234-9853708381955736304-1.json</td>\n",
       "      <td>194355991</td>\n",
       "      <td>194355991</td>\n",
       "      <td>G1234-9853708381955736304-1</td>\n",
       "      <td>None</td>\n",
       "    </tr>\n",
       "    <tr>\n",
       "      <th>1</th>\n",
       "      <td>151201554</td>\n",
       "      <td>/GeoFeature/G1234-9853708381955736304-2.json</td>\n",
       "      <td>151201554</td>\n",
       "      <td>151201554</td>\n",
       "      <td>G1234-9853708381955736304-2</td>\n",
       "      <td>None</td>\n",
       "      <td>MULTIPOLYGON (((5.06779 52.05713, 5.06710 52.0...</td>\n",
       "      <td>Feature</td>\n",
       "      <td>151201554</td>\n",
       "      <td>MultiPolygon</td>\n",
       "      <td>[[[[5.06778717041016, 52.0571349329375], [5.06...</td>\n",
       "      <td>/GeoFeature/G1234-9853708381955736304-2.json</td>\n",
       "      <td>151201554</td>\n",
       "      <td>151201554</td>\n",
       "      <td>G1234-9853708381955736304-2</td>\n",
       "      <td>None</td>\n",
       "    </tr>\n",
       "    <tr>\n",
       "      <th>2</th>\n",
       "      <td>108047117</td>\n",
       "      <td>/GeoFeature/G1234-9853708381955736304-3.json</td>\n",
       "      <td>108047117</td>\n",
       "      <td>108047117</td>\n",
       "      <td>G1234-9853708381955736304-3</td>\n",
       "      <td>None</td>\n",
       "      <td>MULTIPOLYGON (((5.87116 51.85381, 5.88181 51.8...</td>\n",
       "      <td>Feature</td>\n",
       "      <td>108047117</td>\n",
       "      <td>MultiPolygon</td>\n",
       "      <td>[[[[5.87116241455078, 51.8538062484514], [5.88...</td>\n",
       "      <td>/GeoFeature/G1234-9853708381955736304-3.json</td>\n",
       "      <td>108047117</td>\n",
       "      <td>108047117</td>\n",
       "      <td>G1234-9853708381955736304-3</td>\n",
       "      <td>None</td>\n",
       "    </tr>\n",
       "  </tbody>\n",
       "</table>\n",
       "</div>"
      ],
      "text/plain": [
       "          id                                         DocId    ShortId  \\\n",
       "0  194355991  /GeoFeature/G1234-9853708381955736304-1.json  194355991   \n",
       "1  151201554  /GeoFeature/G1234-9853708381955736304-2.json  151201554   \n",
       "2  108047117  /GeoFeature/G1234-9853708381955736304-3.json  108047117   \n",
       "\n",
       "    OBJECTID                     EntityId  NAME  \\\n",
       "0  194355991  G1234-9853708381955736304-1  None   \n",
       "1  151201554  G1234-9853708381955736304-2  None   \n",
       "2  108047117  G1234-9853708381955736304-3  None   \n",
       "\n",
       "                                            geometry    _type        _id  \\\n",
       "0  MULTIPOLYGON (((4.87038 52.25303, 4.80171 52.2...  Feature  194355991   \n",
       "1  MULTIPOLYGON (((5.06779 52.05713, 5.06710 52.0...  Feature  151201554   \n",
       "2  MULTIPOLYGON (((5.87116 51.85381, 5.88181 51.8...  Feature  108047117   \n",
       "\n",
       "  geometry_type                               geometry_coordinates  \\\n",
       "0  MultiPolygon  [[[[4.87037658691406, 52.2530274427686], [4.80...   \n",
       "1  MultiPolygon  [[[[5.06778717041016, 52.0571349329375], [5.06...   \n",
       "2  MultiPolygon  [[[[5.87116241455078, 51.8538062484514], [5.88...   \n",
       "\n",
       "                               properties_DocId properties_ShortId  \\\n",
       "0  /GeoFeature/G1234-9853708381955736304-1.json          194355991   \n",
       "1  /GeoFeature/G1234-9853708381955736304-2.json          151201554   \n",
       "2  /GeoFeature/G1234-9853708381955736304-3.json          108047117   \n",
       "\n",
       "  properties_OBJECTID          properties_EntityId properties_NAME  \n",
       "0           194355991  G1234-9853708381955736304-1            None  \n",
       "1           151201554  G1234-9853708381955736304-2            None  \n",
       "2           108047117  G1234-9853708381955736304-3            None  "
      ]
     },
     "execution_count": 31,
     "metadata": {},
     "output_type": "execute_result"
    }
   ],
   "source": [
    "layer.head()"
   ]
  },
  {
   "cell_type": "markdown",
   "id": "5cb91e80",
   "metadata": {},
   "source": [
    "#### Plot available geometries\n",
    "\n",
    "This requires installation of library to visualize geospatial data. Here, we use Folium."
   ]
  },
  {
   "cell_type": "code",
   "execution_count": 32,
   "id": "c21e9ed5",
   "metadata": {},
   "outputs": [],
   "source": [
    "# !pip install folium"
   ]
  },
  {
   "cell_type": "code",
   "execution_count": 33,
   "id": "7e583232",
   "metadata": {},
   "outputs": [],
   "source": [
    "import folium"
   ]
  },
  {
   "cell_type": "code",
   "execution_count": 34,
   "id": "413b5e65",
   "metadata": {},
   "outputs": [
    {
     "data": {
      "text/html": [
       "<div style=\"width:100%;\"><div style=\"position:relative;width:100%;height:0;padding-bottom:60%;\"><span style=\"color:#565656\">Make this Notebook Trusted to load map: File -> Trust Notebook</span><iframe srcdoc=\"&lt;!DOCTYPE html&gt;\n",
       "&lt;html&gt;\n",
       "&lt;head&gt;\n",
       "    \n",
       "    &lt;meta http-equiv=&quot;content-type&quot; content=&quot;text/html; charset=UTF-8&quot; /&gt;\n",
       "    \n",
       "        &lt;script&gt;\n",
       "            L_NO_TOUCH = false;\n",
       "            L_DISABLE_3D = false;\n",
       "        &lt;/script&gt;\n",
       "    \n",
       "    &lt;style&gt;html, body {width: 100%;height: 100%;margin: 0;padding: 0;}&lt;/style&gt;\n",
       "    &lt;style&gt;#map {position:absolute;top:0;bottom:0;right:0;left:0;}&lt;/style&gt;\n",
       "    &lt;script src=&quot;https://cdn.jsdelivr.net/npm/leaflet@1.9.3/dist/leaflet.js&quot;&gt;&lt;/script&gt;\n",
       "    &lt;script src=&quot;https://code.jquery.com/jquery-3.7.1.min.js&quot;&gt;&lt;/script&gt;\n",
       "    &lt;script src=&quot;https://cdn.jsdelivr.net/npm/bootstrap@5.2.2/dist/js/bootstrap.bundle.min.js&quot;&gt;&lt;/script&gt;\n",
       "    &lt;script src=&quot;https://cdnjs.cloudflare.com/ajax/libs/Leaflet.awesome-markers/2.0.2/leaflet.awesome-markers.js&quot;&gt;&lt;/script&gt;\n",
       "    &lt;link rel=&quot;stylesheet&quot; href=&quot;https://cdn.jsdelivr.net/npm/leaflet@1.9.3/dist/leaflet.css&quot;/&gt;\n",
       "    &lt;link rel=&quot;stylesheet&quot; href=&quot;https://cdn.jsdelivr.net/npm/bootstrap@5.2.2/dist/css/bootstrap.min.css&quot;/&gt;\n",
       "    &lt;link rel=&quot;stylesheet&quot; href=&quot;https://netdna.bootstrapcdn.com/bootstrap/3.0.0/css/bootstrap.min.css&quot;/&gt;\n",
       "    &lt;link rel=&quot;stylesheet&quot; href=&quot;https://cdn.jsdelivr.net/npm/@fortawesome/fontawesome-free@6.2.0/css/all.min.css&quot;/&gt;\n",
       "    &lt;link rel=&quot;stylesheet&quot; href=&quot;https://cdnjs.cloudflare.com/ajax/libs/Leaflet.awesome-markers/2.0.2/leaflet.awesome-markers.css&quot;/&gt;\n",
       "    &lt;link rel=&quot;stylesheet&quot; href=&quot;https://cdn.jsdelivr.net/gh/python-visualization/folium/folium/templates/leaflet.awesome.rotate.min.css&quot;/&gt;\n",
       "    \n",
       "            &lt;meta name=&quot;viewport&quot; content=&quot;width=device-width,\n",
       "                initial-scale=1.0, maximum-scale=1.0, user-scalable=no&quot; /&gt;\n",
       "            &lt;style&gt;\n",
       "                #map_a0533a4089244e96d5fceb73caca6f42 {\n",
       "                    position: relative;\n",
       "                    width: 100.0%;\n",
       "                    height: 100.0%;\n",
       "                    left: 0.0%;\n",
       "                    top: 0.0%;\n",
       "                }\n",
       "                .leaflet-container { font-size: 1rem; }\n",
       "            &lt;/style&gt;\n",
       "        \n",
       "&lt;/head&gt;\n",
       "&lt;body&gt;\n",
       "    \n",
       "    \n",
       "            &lt;div class=&quot;folium-map&quot; id=&quot;map_a0533a4089244e96d5fceb73caca6f42&quot; &gt;&lt;/div&gt;\n",
       "        \n",
       "&lt;/body&gt;\n",
       "&lt;script&gt;\n",
       "    \n",
       "    \n",
       "            var map_a0533a4089244e96d5fceb73caca6f42 = L.map(\n",
       "                &quot;map_a0533a4089244e96d5fceb73caca6f42&quot;,\n",
       "                {\n",
       "                    center: [51.9244, 4.4777],\n",
       "                    crs: L.CRS.EPSG3857,\n",
       "                    zoom: 8,\n",
       "                    zoomControl: true,\n",
       "                    preferCanvas: false,\n",
       "                }\n",
       "            );\n",
       "\n",
       "            \n",
       "\n",
       "        \n",
       "    \n",
       "            var tile_layer_390bac2f23d395728fe84873f0bfb820 = L.tileLayer(\n",
       "                &quot;https://{s}.basemaps.cartocdn.com/light_all/{z}/{x}/{y}{r}.png&quot;,\n",
       "                {&quot;attribution&quot;: &quot;\\u0026copy; \\u003ca href=\\&quot;https://www.openstreetmap.org/copyright\\&quot;\\u003eOpenStreetMap\\u003c/a\\u003e contributors \\u0026copy; \\u003ca href=\\&quot;https://carto.com/attributions\\&quot;\\u003eCARTO\\u003c/a\\u003e&quot;, &quot;detectRetina&quot;: false, &quot;maxNativeZoom&quot;: 20, &quot;maxZoom&quot;: 20, &quot;minZoom&quot;: 0, &quot;noWrap&quot;: false, &quot;opacity&quot;: 1, &quot;subdomains&quot;: &quot;abcd&quot;, &quot;tms&quot;: false}\n",
       "            );\n",
       "        \n",
       "    \n",
       "            tile_layer_390bac2f23d395728fe84873f0bfb820.addTo(map_a0533a4089244e96d5fceb73caca6f42);\n",
       "        \n",
       "    \n",
       "\n",
       "        function geo_json_bc81f9293de6a29186621e79235c8a8f_onEachFeature(feature, layer) {\n",
       "            layer.on({\n",
       "            });\n",
       "        };\n",
       "        var geo_json_bc81f9293de6a29186621e79235c8a8f = L.geoJson(null, {\n",
       "                onEachFeature: geo_json_bc81f9293de6a29186621e79235c8a8f_onEachFeature,\n",
       "            \n",
       "        });\n",
       "\n",
       "        function geo_json_bc81f9293de6a29186621e79235c8a8f_add (data) {\n",
       "            geo_json_bc81f9293de6a29186621e79235c8a8f\n",
       "                .addData(data);\n",
       "        }\n",
       "            geo_json_bc81f9293de6a29186621e79235c8a8f_add({&quot;coordinates&quot;: [[[[4.87037658691406, 52.2530274427686], [4.80171203613281, 52.2269582377385], [4.81956481933594, 52.1775108703737], [4.88239288330078, 52.1617182125462], [4.96238708496094, 52.1823528290166], [4.98264312744141, 52.2235933538394], [4.95964050292969, 52.2530274427686], [4.87037658691406, 52.2530274427686]]]], &quot;type&quot;: &quot;MultiPolygon&quot;});\n",
       "\n",
       "        \n",
       "    \n",
       "            geo_json_bc81f9293de6a29186621e79235c8a8f.addTo(map_a0533a4089244e96d5fceb73caca6f42);\n",
       "        \n",
       "    \n",
       "\n",
       "        function geo_json_8333cd613477e49660bd4293c3b29433_onEachFeature(feature, layer) {\n",
       "            layer.on({\n",
       "            });\n",
       "        };\n",
       "        var geo_json_8333cd613477e49660bd4293c3b29433 = L.geoJson(null, {\n",
       "                onEachFeature: geo_json_8333cd613477e49660bd4293c3b29433_onEachFeature,\n",
       "            \n",
       "        });\n",
       "\n",
       "        function geo_json_8333cd613477e49660bd4293c3b29433_add (data) {\n",
       "            geo_json_8333cd613477e49660bd4293c3b29433\n",
       "                .addData(data);\n",
       "        }\n",
       "            geo_json_8333cd613477e49660bd4293c3b29433_add({&quot;coordinates&quot;: [[[[5.06778717041016, 52.0571349329375], [5.06710052490234, 52.0265148428184], [5.07877349853516, 52.0068647079123], [5.10555267333984, 52.0106686334339], [5.11894226074219, 52.0484789655358], [5.09559631347656, 52.0586126134366], [5.06778717041016, 52.0571349329375]]], [[[5.48269271850586, 51.8294127159533], [5.46303749084473, 51.8282457375513], [5.44681549072266, 51.8127008240244], [5.45522689819336, 51.8110558265829], [5.47488212585449, 51.8164151135138], [5.48269271850586, 51.8294127159533]]]], &quot;type&quot;: &quot;MultiPolygon&quot;});\n",
       "\n",
       "        \n",
       "    \n",
       "            geo_json_8333cd613477e49660bd4293c3b29433.addTo(map_a0533a4089244e96d5fceb73caca6f42);\n",
       "        \n",
       "    \n",
       "\n",
       "        function geo_json_20e557a9feffd32490cc5ab2c80d3e42_onEachFeature(feature, layer) {\n",
       "            layer.on({\n",
       "            });\n",
       "        };\n",
       "        var geo_json_20e557a9feffd32490cc5ab2c80d3e42 = L.geoJson(null, {\n",
       "                onEachFeature: geo_json_20e557a9feffd32490cc5ab2c80d3e42_onEachFeature,\n",
       "            \n",
       "        });\n",
       "\n",
       "        function geo_json_20e557a9feffd32490cc5ab2c80d3e42_add (data) {\n",
       "            geo_json_20e557a9feffd32490cc5ab2c80d3e42\n",
       "                .addData(data);\n",
       "        }\n",
       "            geo_json_20e557a9feffd32490cc5ab2c80d3e42_add({&quot;coordinates&quot;: [[[[5.87116241455078, 51.8538062484514], [5.88180541992188, 51.8646200195489], [5.88180541992187, 51.8771268259966], [5.84163665771484, 51.8894182626641], [5.81039428710938, 51.8817894907091], [5.8392333984375, 51.8622878573851], [5.87116241455078, 51.8538062484514]]], [[[5.85983276367188, 51.8494588041788], [5.83648681640625, 51.8577291913154], [5.81382751464844, 51.8336560189022], [5.85433959960937, 51.8092515668002], [5.89433670043945, 51.8250629155031], [5.87888717651367, 51.8485044309302], [5.85983276367188, 51.8494588041788]]]], &quot;type&quot;: &quot;MultiPolygon&quot;});\n",
       "\n",
       "        \n",
       "    \n",
       "            geo_json_20e557a9feffd32490cc5ab2c80d3e42.addTo(map_a0533a4089244e96d5fceb73caca6f42);\n",
       "        \n",
       "    \n",
       "                var lat_lng_popup_f753daee74357b8632b702878b805d24 = L.popup();\n",
       "                function latLngPop(e) {\n",
       "                    lat_lng_popup_f753daee74357b8632b702878b805d24\n",
       "                        .setLatLng(e.latlng)\n",
       "                        .setContent(&quot;Latitude: &quot; + e.latlng.lat.toFixed(4) +\n",
       "                                    &quot;&lt;br&gt;Longitude: &quot; + e.latlng.lng.toFixed(4))\n",
       "                        .openOn(map_a0533a4089244e96d5fceb73caca6f42);\n",
       "                    }\n",
       "                map_a0533a4089244e96d5fceb73caca6f42.on(&#x27;click&#x27;, latLngPop);\n",
       "            \n",
       "&lt;/script&gt;\n",
       "&lt;/html&gt;\" style=\"position:absolute;width:100%;height:100%;left:0;top:0;border:none !important;\" allowfullscreen webkitallowfullscreen mozallowfullscreen></iframe></div></div>"
      ],
      "text/plain": [
       "<folium.folium.Map at 0x117505cc0>"
      ]
     },
     "execution_count": 34,
     "metadata": {},
     "output_type": "execute_result"
    }
   ],
   "source": [
    "poly_map = folium.Map([51.9244, 4.4777], zoom_start=8, tiles=\"cartodbpositron\")\n",
    "for _, geometry in layer[\"geometry\"].items():\n",
    "    folium.GeoJson(geometry).add_to(poly_map)\n",
    "folium.LatLngPopup().add_to(poly_map)\n",
    "poly_map"
   ]
  },
  {
   "cell_type": "code",
   "execution_count": null,
   "id": "bfa6a6bf",
   "metadata": {
    "lines_to_next_cell": 2
   },
   "outputs": [],
   "source": []
  }
 ],
 "metadata": {
  "kernelspec": {
   "display_name": "Python 3 (ipykernel)",
   "language": "python",
   "name": "python3"
  },
  "language_info": {
   "codemirror_mode": {
    "name": "ipython",
    "version": 3
   },
   "file_extension": ".py",
   "mimetype": "text/x-python",
   "name": "python",
   "nbconvert_exporter": "python",
   "pygments_lexer": "ipython3",
   "version": "3.10.7"
  }
 },
 "nbformat": 4,
 "nbformat_minor": 5
}
